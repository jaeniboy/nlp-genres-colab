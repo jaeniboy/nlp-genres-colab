{
 "cells": [
  {
   "cell_type": "markdown",
   "metadata": {},
   "source": [
    "# Mein Colab-Notebook\n",
    "\n",
    "Willkommen zu deinem neuen Google Colab-Notebook!\n",
    "\n",
    "Hier kannst du Python-Code ausführen, Notizen machen und vieles mehr."
   ]
  },
  {
   "cell_type": "code",
   "execution_count": null,
   "metadata": {},
   "outputs": [],
   "source": [
    "# Dein erster Python-Code\n",
    "print(\"Hallo, Colab!\")"
   ]
  },
  {
   "cell_type": "markdown",
   "metadata": {},
   "source": [
    "## Weitere Zelle\n",
    "\n",
    "Hier kannst du weitere Notizen, Formeln oder Code hinzufügen."
   ]
  }
 ],
 "metadata": {
  "colab": {
   "name": "Mein_Colab_Notebook",
   "provenance": []
  },
  "kernelspec": {
   "display_name": "Python 3",
   "language": "python",
   "name": "python3"
  },
  "language_info": {
   "name": "python"
  }
 },
 "nbformat": 4,
 "nbformat_minor": 0
}
